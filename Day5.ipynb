{
 "cells": [
  {
   "cell_type": "markdown",
   "id": "3643c2ee",
   "metadata": {},
   "source": [
    "# tupules continued"
   ]
  },
  {
   "cell_type": "code",
   "execution_count": 5,
   "id": "f25aa8ff",
   "metadata": {},
   "outputs": [],
   "source": [
    "x=('apple','mango','grapes','apple','banana')"
   ]
  },
  {
   "cell_type": "code",
   "execution_count": 6,
   "id": "2045174a",
   "metadata": {},
   "outputs": [
    {
     "data": {
      "text/plain": [
       "('apple', 'mango', 'grapes', 'apple', 'banana')"
      ]
     },
     "execution_count": 6,
     "metadata": {},
     "output_type": "execute_result"
    }
   ],
   "source": [
    "x"
   ]
  },
  {
   "cell_type": "code",
   "execution_count": 7,
   "id": "ff010081",
   "metadata": {},
   "outputs": [
    {
     "data": {
      "text/plain": [
       "5"
      ]
     },
     "execution_count": 7,
     "metadata": {},
     "output_type": "execute_result"
    }
   ],
   "source": [
    "len(x)"
   ]
  },
  {
   "cell_type": "code",
   "execution_count": 8,
   "id": "0d545ca3",
   "metadata": {},
   "outputs": [
    {
     "data": {
      "text/plain": [
       "'grapes'"
      ]
     },
     "execution_count": 8,
     "metadata": {},
     "output_type": "execute_result"
    }
   ],
   "source": [
    "x[2]"
   ]
  },
  {
   "cell_type": "code",
   "execution_count": 9,
   "id": "713ef3bf",
   "metadata": {},
   "outputs": [
    {
     "data": {
      "text/plain": [
       "('grapes', 'apple', 'banana')"
      ]
     },
     "execution_count": 9,
     "metadata": {},
     "output_type": "execute_result"
    }
   ],
   "source": [
    "x[2:5]"
   ]
  },
  {
   "cell_type": "code",
   "execution_count": 10,
   "id": "f98b8949",
   "metadata": {},
   "outputs": [
    {
     "data": {
      "text/plain": [
       "'grapes'"
      ]
     },
     "execution_count": 10,
     "metadata": {},
     "output_type": "execute_result"
    }
   ],
   "source": [
    "x[2]"
   ]
  },
  {
   "cell_type": "code",
   "execution_count": 11,
   "id": "cea8750f",
   "metadata": {},
   "outputs": [],
   "source": [
    "y=list(x)#list ma value change garna milxa,tupules ma mildaina"
   ]
  },
  {
   "cell_type": "code",
   "execution_count": 12,
   "id": "f18e76b9",
   "metadata": {},
   "outputs": [
    {
     "data": {
      "text/plain": [
       "['apple', 'mango', 'grapes', 'apple', 'banana']"
      ]
     },
     "execution_count": 12,
     "metadata": {},
     "output_type": "execute_result"
    }
   ],
   "source": [
    "y"
   ]
  },
  {
   "cell_type": "code",
   "execution_count": 15,
   "id": "1f4ccd7d",
   "metadata": {},
   "outputs": [],
   "source": [
    "y[2]='banana'"
   ]
  },
  {
   "cell_type": "code",
   "execution_count": 17,
   "id": "9d23c077",
   "metadata": {},
   "outputs": [
    {
     "data": {
      "text/plain": [
       "['apple', 'mango', 'banana', 'apple', 'banana']"
      ]
     },
     "execution_count": 17,
     "metadata": {},
     "output_type": "execute_result"
    }
   ],
   "source": [
    "y"
   ]
  },
  {
   "cell_type": "code",
   "execution_count": 19,
   "id": "ea027742",
   "metadata": {},
   "outputs": [],
   "source": [
    "x=tuple(y)"
   ]
  },
  {
   "cell_type": "code",
   "execution_count": 20,
   "id": "38470525",
   "metadata": {},
   "outputs": [
    {
     "data": {
      "text/plain": [
       "('apple', 'mango', 'banana', 'apple', 'banana')"
      ]
     },
     "execution_count": 20,
     "metadata": {},
     "output_type": "execute_result"
    }
   ],
   "source": [
    "x"
   ]
  },
  {
   "cell_type": "code",
   "execution_count": 21,
   "id": "a354b046",
   "metadata": {},
   "outputs": [
    {
     "data": {
      "text/plain": [
       "tuple"
      ]
     },
     "execution_count": 21,
     "metadata": {},
     "output_type": "execute_result"
    }
   ],
   "source": [
    "type(x)"
   ]
  },
  {
   "cell_type": "code",
   "execution_count": 22,
   "id": "3d8f464b",
   "metadata": {},
   "outputs": [],
   "source": [
    "z=('hexcode',)"
   ]
  },
  {
   "cell_type": "code",
   "execution_count": 23,
   "id": "e09cab6b",
   "metadata": {},
   "outputs": [
    {
     "data": {
      "text/plain": [
       "tuple"
      ]
     },
     "execution_count": 23,
     "metadata": {},
     "output_type": "execute_result"
    }
   ],
   "source": [
    "type(z)"
   ]
  },
  {
   "cell_type": "markdown",
   "id": "26baa4fc",
   "metadata": {},
   "source": [
    "# Set"
   ]
  },
  {
   "cell_type": "code",
   "execution_count": 61,
   "id": "0bdcb08c",
   "metadata": {},
   "outputs": [],
   "source": [
    "s1={1,2,3,4,5,6}"
   ]
  },
  {
   "cell_type": "code",
   "execution_count": 62,
   "id": "c1804e33",
   "metadata": {},
   "outputs": [
    {
     "data": {
      "text/plain": [
       "set"
      ]
     },
     "execution_count": 62,
     "metadata": {},
     "output_type": "execute_result"
    }
   ],
   "source": [
    "type(s1)"
   ]
  },
  {
   "cell_type": "code",
   "execution_count": 63,
   "id": "85c644be",
   "metadata": {},
   "outputs": [],
   "source": [
    "s2={1,2,3,4,5,6,6,6,6,6,7,7}# set le duplication allow gardaina"
   ]
  },
  {
   "cell_type": "code",
   "execution_count": 64,
   "id": "afd66dce",
   "metadata": {},
   "outputs": [
    {
     "data": {
      "text/plain": [
       "{1, 2, 3, 4, 5, 6, 7}"
      ]
     },
     "execution_count": 64,
     "metadata": {},
     "output_type": "execute_result"
    }
   ],
   "source": [
    "s2"
   ]
  },
  {
   "cell_type": "code",
   "execution_count": 65,
   "id": "59f14d8e",
   "metadata": {},
   "outputs": [],
   "source": [
    "s2.add('hi')"
   ]
  },
  {
   "cell_type": "code",
   "execution_count": 66,
   "id": "7b46302c",
   "metadata": {},
   "outputs": [
    {
     "data": {
      "text/plain": [
       "{1, 2, 3, 4, 5, 6, 7, 'hi'}"
      ]
     },
     "execution_count": 66,
     "metadata": {},
     "output_type": "execute_result"
    }
   ],
   "source": [
    "s2"
   ]
  },
  {
   "cell_type": "code",
   "execution_count": 67,
   "id": "fcf025eb",
   "metadata": {
    "scrolled": true
   },
   "outputs": [],
   "source": [
    "s2.remove(6)"
   ]
  },
  {
   "cell_type": "code",
   "execution_count": 68,
   "id": "415f718c",
   "metadata": {},
   "outputs": [
    {
     "data": {
      "text/plain": [
       "{1, 2, 3, 4, 5, 7, 'hi'}"
      ]
     },
     "execution_count": 68,
     "metadata": {},
     "output_type": "execute_result"
    }
   ],
   "source": [
    "s2"
   ]
  },
  {
   "cell_type": "code",
   "execution_count": 69,
   "id": "396456db",
   "metadata": {},
   "outputs": [
    {
     "data": {
      "text/plain": [
       "7"
      ]
     },
     "execution_count": 69,
     "metadata": {},
     "output_type": "execute_result"
    }
   ],
   "source": [
    "len(s2)"
   ]
  },
  {
   "cell_type": "code",
   "execution_count": 70,
   "id": "c92691fe",
   "metadata": {},
   "outputs": [
    {
     "name": "stdout",
     "output_type": "stream",
     "text": [
      "1\n",
      "2\n",
      "3\n",
      "4\n",
      "5\n",
      "7\n",
      "hi\n"
     ]
    }
   ],
   "source": [
    "for i in s2:\n",
    "    print(i)"
   ]
  },
  {
   "cell_type": "code",
   "execution_count": 73,
   "id": "ec477e2d",
   "metadata": {},
   "outputs": [],
   "source": [
    "a=list(s2)"
   ]
  },
  {
   "cell_type": "code",
   "execution_count": 74,
   "id": "2832f3a5",
   "metadata": {},
   "outputs": [
    {
     "data": {
      "text/plain": [
       "[1, 2, 3, 4, 5, 7, 'hi']"
      ]
     },
     "execution_count": 74,
     "metadata": {},
     "output_type": "execute_result"
    }
   ],
   "source": [
    "a"
   ]
  },
  {
   "cell_type": "code",
   "execution_count": 78,
   "id": "a36676ec",
   "metadata": {},
   "outputs": [],
   "source": [
    "a[6]='hello world'"
   ]
  },
  {
   "cell_type": "code",
   "execution_count": 79,
   "id": "e2721601",
   "metadata": {},
   "outputs": [
    {
     "data": {
      "text/plain": [
       "[1, 2, 3, 4, 5, 'hello world', 'hello world']"
      ]
     },
     "execution_count": 79,
     "metadata": {},
     "output_type": "execute_result"
    }
   ],
   "source": [
    "a"
   ]
  },
  {
   "cell_type": "markdown",
   "id": "ef0c59a0",
   "metadata": {},
   "source": [
    "# if else statement"
   ]
  },
  {
   "cell_type": "code",
   "execution_count": 85,
   "id": "4bb03e63",
   "metadata": {},
   "outputs": [
    {
     "name": "stdout",
     "output_type": "stream",
     "text": [
      "Enter the positive integer:0\n",
      "Even Number\n"
     ]
    }
   ],
   "source": [
    "n=int(input(\"Enter the positive integer:\"))\n",
    "if(n%2==0):\n",
    "    print(\"Even Number\")\n",
    "else:\n",
    "        print(\"Odd number\")"
   ]
  },
  {
   "cell_type": "markdown",
   "id": "95e79c8c",
   "metadata": {},
   "source": [
    "exercise:\n",
    "    1 take input from user \n",
    "    2 classify the division using following refrences\n",
    "    i) marks greater than equal to 80 -distinction\n",
    "    ii)greater equal to 60 and less than 80 - first division\n",
    "    iii)greater than equal to 40 and less than 60 -second division\n",
    "    iv)less than 40 -kaam xaina(fail)\n",
    "    v) else invalid marks"
   ]
  },
  {
   "cell_type": "code",
   "execution_count": 89,
   "id": "2af2e41f",
   "metadata": {},
   "outputs": [
    {
     "name": "stdout",
     "output_type": "stream",
     "text": [
      "Enter the marks:90\n",
      "Distinction\n"
     ]
    }
   ],
   "source": [
    "marks=int(input(\"Enter the marks:\"))\n",
    "if (marks>=80 and marks<=100):\n",
    "    print(\"Distinction\")\n",
    "elif(marks>=60 and marks<=80):\n",
    "    print (\"First division\")\n",
    "elif(marks>=40 and marks<=60):\n",
    "    print(\"second division\")\n",
    "elif(marks<=40):\n",
    "    print(\"kaam xaina\")\n",
    "else:\n",
    "    print(\"invalid marks\")"
   ]
  },
  {
   "cell_type": "code",
   "execution_count": null,
   "id": "b32fa029",
   "metadata": {},
   "outputs": [],
   "source": []
  }
 ],
 "metadata": {
  "kernelspec": {
   "display_name": "Python 3 (ipykernel)",
   "language": "python",
   "name": "python3"
  },
  "language_info": {
   "codemirror_mode": {
    "name": "ipython",
    "version": 3
   },
   "file_extension": ".py",
   "mimetype": "text/x-python",
   "name": "python",
   "nbconvert_exporter": "python",
   "pygments_lexer": "ipython3",
   "version": "3.11.1"
  }
 },
 "nbformat": 4,
 "nbformat_minor": 5
}
