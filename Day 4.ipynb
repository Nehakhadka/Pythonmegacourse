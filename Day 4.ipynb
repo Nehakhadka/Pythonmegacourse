{
 "cells": [
  {
   "cell_type": "markdown",
   "id": "22a44116",
   "metadata": {},
   "source": [
    "# List"
   ]
  },
  {
   "cell_type": "code",
   "execution_count": 1,
   "id": "0f9cd270",
   "metadata": {},
   "outputs": [],
   "source": [
    "lst=[1,2,3, 'Hi',2.633333,'Neha','Hexcode']"
   ]
  },
  {
   "cell_type": "code",
   "execution_count": 2,
   "id": "cac1d4b9",
   "metadata": {},
   "outputs": [
    {
     "data": {
      "text/plain": [
       "list"
      ]
     },
     "execution_count": 2,
     "metadata": {},
     "output_type": "execute_result"
    }
   ],
   "source": [
    "type(lst)"
   ]
  },
  {
   "cell_type": "code",
   "execution_count": 3,
   "id": "7a3006d9",
   "metadata": {},
   "outputs": [
    {
     "data": {
      "text/plain": [
       "3"
      ]
     },
     "execution_count": 3,
     "metadata": {},
     "output_type": "execute_result"
    }
   ],
   "source": [
    "lst[2]"
   ]
  },
  {
   "cell_type": "code",
   "execution_count": 4,
   "id": "c5cc4c3c",
   "metadata": {},
   "outputs": [
    {
     "data": {
      "text/plain": [
       "int"
      ]
     },
     "execution_count": 4,
     "metadata": {},
     "output_type": "execute_result"
    }
   ],
   "source": [
    "type(lst[2])"
   ]
  },
  {
   "cell_type": "code",
   "execution_count": 5,
   "id": "8db4d072",
   "metadata": {},
   "outputs": [],
   "source": [
    "x='Neha Hexcode'"
   ]
  },
  {
   "cell_type": "code",
   "execution_count": 6,
   "id": "6b6e5e73",
   "metadata": {},
   "outputs": [
    {
     "data": {
      "text/plain": [
       "'Neha Hexcode'"
      ]
     },
     "execution_count": 6,
     "metadata": {},
     "output_type": "execute_result"
    }
   ],
   "source": [
    "x"
   ]
  },
  {
   "cell_type": "code",
   "execution_count": 7,
   "id": "584b7db6",
   "metadata": {},
   "outputs": [
    {
     "data": {
      "text/plain": [
       "'Neha Hexcode'"
      ]
     },
     "execution_count": 7,
     "metadata": {},
     "output_type": "execute_result"
    }
   ],
   "source": [
    "lst[5]+' '+lst[6]"
   ]
  },
  {
   "cell_type": "code",
   "execution_count": 8,
   "id": "9a180616",
   "metadata": {},
   "outputs": [
    {
     "data": {
      "text/plain": [
       "7"
      ]
     },
     "execution_count": 8,
     "metadata": {},
     "output_type": "execute_result"
    }
   ],
   "source": [
    "len(lst)"
   ]
  },
  {
   "cell_type": "code",
   "execution_count": 9,
   "id": "2040de4e",
   "metadata": {},
   "outputs": [
    {
     "data": {
      "text/plain": [
       "[3, 'Hi', 2.633333, 'Neha']"
      ]
     },
     "execution_count": 9,
     "metadata": {},
     "output_type": "execute_result"
    }
   ],
   "source": [
    "lst[2:6]"
   ]
  },
  {
   "cell_type": "code",
   "execution_count": 10,
   "id": "663ec0a9",
   "metadata": {},
   "outputs": [],
   "source": [
    "lst1=[]"
   ]
  },
  {
   "cell_type": "code",
   "execution_count": 11,
   "id": "3a84457d",
   "metadata": {},
   "outputs": [],
   "source": [
    "lst1.append('Hex')"
   ]
  },
  {
   "cell_type": "code",
   "execution_count": 12,
   "id": "7d36c721",
   "metadata": {},
   "outputs": [
    {
     "data": {
      "text/plain": [
       "['Hex']"
      ]
     },
     "execution_count": 12,
     "metadata": {},
     "output_type": "execute_result"
    }
   ],
   "source": [
    "lst1"
   ]
  },
  {
   "cell_type": "code",
   "execution_count": 13,
   "id": "babc2a9a",
   "metadata": {},
   "outputs": [],
   "source": [
    "lst1.append('Paris')"
   ]
  },
  {
   "cell_type": "code",
   "execution_count": 14,
   "id": "05d58bc0",
   "metadata": {},
   "outputs": [],
   "source": [
    "lst1.append('proposal')"
   ]
  },
  {
   "cell_type": "code",
   "execution_count": 15,
   "id": "4a7d17c1",
   "metadata": {},
   "outputs": [],
   "source": [
    "lst1.append('2023')"
   ]
  },
  {
   "cell_type": "code",
   "execution_count": 16,
   "id": "63a4a7e5",
   "metadata": {},
   "outputs": [
    {
     "data": {
      "text/plain": [
       "['Hex', 'Paris', 'proposal', '2023']"
      ]
     },
     "execution_count": 16,
     "metadata": {},
     "output_type": "execute_result"
    }
   ],
   "source": [
    "lst1"
   ]
  },
  {
   "cell_type": "code",
   "execution_count": 17,
   "id": "563f0866",
   "metadata": {},
   "outputs": [],
   "source": [
    "lst1.insert(1,'code')"
   ]
  },
  {
   "cell_type": "code",
   "execution_count": 18,
   "id": "cae4e252",
   "metadata": {},
   "outputs": [
    {
     "data": {
      "text/plain": [
       "['Hex', 'code', 'Paris', 'proposal', '2023']"
      ]
     },
     "execution_count": 18,
     "metadata": {},
     "output_type": "execute_result"
    }
   ],
   "source": [
    "lst1"
   ]
  },
  {
   "cell_type": "code",
   "execution_count": 19,
   "id": "c4e79c41",
   "metadata": {},
   "outputs": [],
   "source": [
    "lst1[1]='Academy'"
   ]
  },
  {
   "cell_type": "code",
   "execution_count": 20,
   "id": "c0c120b6",
   "metadata": {},
   "outputs": [
    {
     "data": {
      "text/plain": [
       "['Hex', 'Academy', 'Paris', 'proposal', '2023']"
      ]
     },
     "execution_count": 20,
     "metadata": {},
     "output_type": "execute_result"
    }
   ],
   "source": [
    "lst1"
   ]
  },
  {
   "cell_type": "code",
   "execution_count": 21,
   "id": "9f1b92ff",
   "metadata": {},
   "outputs": [],
   "source": [
    "lst1[1:4]=['effiel','tower','2030']"
   ]
  },
  {
   "cell_type": "code",
   "execution_count": 22,
   "id": "bc46757d",
   "metadata": {},
   "outputs": [
    {
     "data": {
      "text/plain": [
       "['Hex', 'effiel', 'tower', '2030', '2023']"
      ]
     },
     "execution_count": 22,
     "metadata": {},
     "output_type": "execute_result"
    }
   ],
   "source": [
    "lst1"
   ]
  },
  {
   "cell_type": "code",
   "execution_count": 23,
   "id": "8f3e8656",
   "metadata": {},
   "outputs": [],
   "source": [
    "lst1.clear()"
   ]
  },
  {
   "cell_type": "code",
   "execution_count": 24,
   "id": "ee909096",
   "metadata": {},
   "outputs": [
    {
     "data": {
      "text/plain": [
       "[]"
      ]
     },
     "execution_count": 24,
     "metadata": {},
     "output_type": "execute_result"
    }
   ],
   "source": [
    "lst1"
   ]
  },
  {
   "cell_type": "code",
   "execution_count": 25,
   "id": "9689c694",
   "metadata": {},
   "outputs": [
    {
     "data": {
      "text/plain": [
       "[1, 2, 3, 'Hi', 2.633333, 'Neha', 'Hexcode']"
      ]
     },
     "execution_count": 25,
     "metadata": {},
     "output_type": "execute_result"
    }
   ],
   "source": [
    "lst"
   ]
  },
  {
   "cell_type": "code",
   "execution_count": 26,
   "id": "9931edd4",
   "metadata": {},
   "outputs": [
    {
     "data": {
      "text/plain": [
       "'Hexcode'"
      ]
     },
     "execution_count": 26,
     "metadata": {},
     "output_type": "execute_result"
    }
   ],
   "source": [
    "lst.pop()"
   ]
  },
  {
   "cell_type": "code",
   "execution_count": 28,
   "id": "b508e9f9",
   "metadata": {},
   "outputs": [
    {
     "data": {
      "text/plain": [
       "'Neha'"
      ]
     },
     "execution_count": 28,
     "metadata": {},
     "output_type": "execute_result"
    }
   ],
   "source": [
    "lst.pop()"
   ]
  },
  {
   "cell_type": "code",
   "execution_count": 29,
   "id": "8200b604",
   "metadata": {},
   "outputs": [
    {
     "data": {
      "text/plain": [
       "[1, 2, 3, 'Hi', 2.633333]"
      ]
     },
     "execution_count": 29,
     "metadata": {},
     "output_type": "execute_result"
    }
   ],
   "source": [
    "lst"
   ]
  },
  {
   "cell_type": "code",
   "execution_count": 30,
   "id": "9606bfdc",
   "metadata": {},
   "outputs": [
    {
     "data": {
      "text/plain": [
       "True"
      ]
     },
     "execution_count": 30,
     "metadata": {},
     "output_type": "execute_result"
    }
   ],
   "source": [
    "1 in lst"
   ]
  },
  {
   "cell_type": "code",
   "execution_count": 31,
   "id": "06a959be",
   "metadata": {},
   "outputs": [
    {
     "data": {
      "text/plain": [
       "True"
      ]
     },
     "execution_count": 31,
     "metadata": {},
     "output_type": "execute_result"
    }
   ],
   "source": [
    "2 in lst"
   ]
  },
  {
   "cell_type": "code",
   "execution_count": 32,
   "id": "9d74dbd9",
   "metadata": {},
   "outputs": [
    {
     "data": {
      "text/plain": [
       "False"
      ]
     },
     "execution_count": 32,
     "metadata": {},
     "output_type": "execute_result"
    }
   ],
   "source": [
    "9 in lst"
   ]
  },
  {
   "cell_type": "markdown",
   "id": "c04336fd",
   "metadata": {},
   "source": [
    "# Dictionary"
   ]
  },
  {
   "cell_type": "code",
   "execution_count": 34,
   "id": "17c4eb91",
   "metadata": {},
   "outputs": [],
   "source": [
    "info={'Name':'Neha khadka',\n",
    "      'Rollno': 20,\n",
    "      'college':'Medhavi',\n",
    "      'Semester':3,\n",
    "      'programmee':'BCIS'}\n",
    "      \n",
    "      "
   ]
  },
  {
   "cell_type": "code",
   "execution_count": 35,
   "id": "c62dca45",
   "metadata": {},
   "outputs": [
    {
     "data": {
      "text/plain": [
       "{'Name': 'Neha khadka',\n",
       " 'Rollno': 20,\n",
       " 'college': 'Medhavi',\n",
       " 'Semester': 3,\n",
       " 'programmee': 'BCIS'}"
      ]
     },
     "execution_count": 35,
     "metadata": {},
     "output_type": "execute_result"
    }
   ],
   "source": [
    "info"
   ]
  },
  {
   "cell_type": "code",
   "execution_count": 36,
   "id": "470c2b2c",
   "metadata": {},
   "outputs": [
    {
     "data": {
      "text/plain": [
       "dict_keys(['Name', 'Rollno', 'college', 'Semester', 'programmee'])"
      ]
     },
     "execution_count": 36,
     "metadata": {},
     "output_type": "execute_result"
    }
   ],
   "source": [
    "info.keys()"
   ]
  },
  {
   "cell_type": "code",
   "execution_count": 37,
   "id": "eebff862",
   "metadata": {},
   "outputs": [
    {
     "data": {
      "text/plain": [
       "'Medhavi'"
      ]
     },
     "execution_count": 37,
     "metadata": {},
     "output_type": "execute_result"
    }
   ],
   "source": [
    "info['college']"
   ]
  },
  {
   "cell_type": "code",
   "execution_count": 38,
   "id": "8d38b846",
   "metadata": {},
   "outputs": [],
   "source": [
    "info['college']='whitehouse'"
   ]
  },
  {
   "cell_type": "code",
   "execution_count": 39,
   "id": "1dfd3f26",
   "metadata": {},
   "outputs": [
    {
     "data": {
      "text/plain": [
       "{'Name': 'Neha khadka',\n",
       " 'Rollno': 20,\n",
       " 'college': 'whitehouse',\n",
       " 'Semester': 3,\n",
       " 'programmee': 'BCIS'}"
      ]
     },
     "execution_count": 39,
     "metadata": {},
     "output_type": "execute_result"
    }
   ],
   "source": [
    "info"
   ]
  },
  {
   "cell_type": "code",
   "execution_count": 41,
   "id": "e248d426",
   "metadata": {},
   "outputs": [
    {
     "data": {
      "text/plain": [
       "dict_values(['Neha khadka', 20, 'whitehouse', 3, 'BCIS'])"
      ]
     },
     "execution_count": 41,
     "metadata": {},
     "output_type": "execute_result"
    }
   ],
   "source": [
    "info.values()"
   ]
  },
  {
   "cell_type": "code",
   "execution_count": 42,
   "id": "1a496de5",
   "metadata": {},
   "outputs": [],
   "source": [
    "info['Remarks']='Topper'"
   ]
  },
  {
   "cell_type": "code",
   "execution_count": 43,
   "id": "8c46b9b9",
   "metadata": {},
   "outputs": [
    {
     "data": {
      "text/plain": [
       "{'Name': 'Neha khadka',\n",
       " 'Rollno': 20,\n",
       " 'college': 'whitehouse',\n",
       " 'Semester': 3,\n",
       " 'programmee': 'BCIS',\n",
       " 'Remarks': 'Topper'}"
      ]
     },
     "execution_count": 43,
     "metadata": {},
     "output_type": "execute_result"
    }
   ],
   "source": [
    "info"
   ]
  },
  {
   "cell_type": "code",
   "execution_count": 44,
   "id": "94fc8c18",
   "metadata": {},
   "outputs": [
    {
     "data": {
      "text/plain": [
       "'Topper'"
      ]
     },
     "execution_count": 44,
     "metadata": {},
     "output_type": "execute_result"
    }
   ],
   "source": [
    "info.pop('Remarks')"
   ]
  },
  {
   "cell_type": "code",
   "execution_count": 45,
   "id": "76994b27",
   "metadata": {},
   "outputs": [
    {
     "data": {
      "text/plain": [
       "{'Name': 'Neha khadka',\n",
       " 'Rollno': 20,\n",
       " 'college': 'whitehouse',\n",
       " 'Semester': 3,\n",
       " 'programmee': 'BCIS'}"
      ]
     },
     "execution_count": 45,
     "metadata": {},
     "output_type": "execute_result"
    }
   ],
   "source": [
    "info"
   ]
  },
  {
   "cell_type": "code",
   "execution_count": 47,
   "id": "349bb668",
   "metadata": {},
   "outputs": [],
   "source": [
    "    info.update({'Reg no':'2022-2345167'})"
   ]
  },
  {
   "cell_type": "code",
   "execution_count": 48,
   "id": "e7e38266",
   "metadata": {},
   "outputs": [
    {
     "data": {
      "text/plain": [
       "{'Name': 'Neha khadka',\n",
       " 'Rollno': 20,\n",
       " 'college': 'whitehouse',\n",
       " 'Semester': 3,\n",
       " 'programmee': 'BCIS',\n",
       " 'Reg no': '2022-2345167'}"
      ]
     },
     "execution_count": 48,
     "metadata": {},
     "output_type": "execute_result"
    }
   ],
   "source": [
    "info"
   ]
  },
  {
   "cell_type": "code",
   "execution_count": 50,
   "id": "dc0f34e2",
   "metadata": {},
   "outputs": [
    {
     "data": {
      "text/plain": [
       "'2022-2345167'"
      ]
     },
     "execution_count": 50,
     "metadata": {},
     "output_type": "execute_result"
    }
   ],
   "source": [
    "info.get('Reg no')"
   ]
  },
  {
   "cell_type": "markdown",
   "id": "f60dab04",
   "metadata": {},
   "source": [
    "# Tuples"
   ]
  },
  {
   "cell_type": "code",
   "execution_count": 51,
   "id": "0d399341",
   "metadata": {},
   "outputs": [],
   "source": [
    "x=(1,2,3,4,'Hi')"
   ]
  },
  {
   "cell_type": "code",
   "execution_count": 52,
   "id": "f1e561c7",
   "metadata": {},
   "outputs": [
    {
     "data": {
      "text/plain": [
       "1"
      ]
     },
     "execution_count": 52,
     "metadata": {},
     "output_type": "execute_result"
    }
   ],
   "source": [
    "x.count(1)"
   ]
  },
  {
   "cell_type": "code",
   "execution_count": 53,
   "id": "c184db95",
   "metadata": {},
   "outputs": [
    {
     "data": {
      "text/plain": [
       "1"
      ]
     },
     "execution_count": 53,
     "metadata": {},
     "output_type": "execute_result"
    }
   ],
   "source": [
    "x[0]"
   ]
  },
  {
   "cell_type": "code",
   "execution_count": null,
   "id": "97d44ec9",
   "metadata": {},
   "outputs": [],
   "source": []
  }
 ],
 "metadata": {
  "kernelspec": {
   "display_name": "Python 3 (ipykernel)",
   "language": "python",
   "name": "python3"
  },
  "language_info": {
   "codemirror_mode": {
    "name": "ipython",
    "version": 3
   },
   "file_extension": ".py",
   "mimetype": "text/x-python",
   "name": "python",
   "nbconvert_exporter": "python",
   "pygments_lexer": "ipython3",
   "version": "3.11.1"
  }
 },
 "nbformat": 4,
 "nbformat_minor": 5
}
