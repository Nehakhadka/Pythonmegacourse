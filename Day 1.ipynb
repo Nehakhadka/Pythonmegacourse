{
 "cells": [
  {
   "cell_type": "code",
   "execution_count": 19,
   "id": "6a277ad9",
   "metadata": {},
   "outputs": [
    {
     "name": "stdout",
     "output_type": "stream",
     "text": [
      "Hello hex!\n"
     ]
    }
   ],
   "source": [
    "print('Hello hex!')"
   ]
  },
  {
   "cell_type": "code",
   "execution_count": 20,
   "id": "efd8af84",
   "metadata": {},
   "outputs": [
    {
     "name": "stdout",
     "output_type": "stream",
     "text": [
      "12\n"
     ]
    }
   ],
   "source": [
    "x=5\n",
    "y=7\n",
    "print(x+y)"
   ]
  },
  {
   "cell_type": "code",
   "execution_count": 21,
   "id": "be928281",
   "metadata": {},
   "outputs": [
    {
     "name": "stdout",
     "output_type": "stream",
     "text": [
      "5\n"
     ]
    }
   ],
   "source": [
    "print(x)"
   ]
  },
  {
   "cell_type": "code",
   "execution_count": 22,
   "id": "774dd5eb",
   "metadata": {},
   "outputs": [
    {
     "data": {
      "text/plain": [
       "int"
      ]
     },
     "execution_count": 22,
     "metadata": {},
     "output_type": "execute_result"
    }
   ],
   "source": [
    "type(x)"
   ]
  },
  {
   "cell_type": "code",
   "execution_count": 23,
   "id": "73941c24",
   "metadata": {},
   "outputs": [],
   "source": [
    "y='I am a student'"
   ]
  },
  {
   "cell_type": "code",
   "execution_count": 24,
   "id": "5c4218b0",
   "metadata": {},
   "outputs": [
    {
     "data": {
      "text/plain": [
       "str"
      ]
     },
     "execution_count": 24,
     "metadata": {},
     "output_type": "execute_result"
    }
   ],
   "source": [
    "type(y)"
   ]
  },
  {
   "cell_type": "code",
   "execution_count": 25,
   "id": "ebe66922",
   "metadata": {},
   "outputs": [],
   "source": [
    "b=\"my name is neha khadka\""
   ]
  },
  {
   "cell_type": "code",
   "execution_count": 26,
   "id": "97541d7d",
   "metadata": {},
   "outputs": [
    {
     "name": "stdout",
     "output_type": "stream",
     "text": [
      "my name is neha khadkaI am a student\n"
     ]
    }
   ],
   "source": [
    "print(b+y)"
   ]
  },
  {
   "cell_type": "code",
   "execution_count": 27,
   "id": "d0306b16",
   "metadata": {},
   "outputs": [
    {
     "name": "stdout",
     "output_type": "stream",
     "text": [
      "3\n"
     ]
    }
   ],
   "source": [
    "z=input()"
   ]
  },
  {
   "cell_type": "code",
   "execution_count": 28,
   "id": "1899f367",
   "metadata": {},
   "outputs": [
    {
     "data": {
      "text/plain": [
       "str"
      ]
     },
     "execution_count": 28,
     "metadata": {},
     "output_type": "execute_result"
    }
   ],
   "source": [
    "type(z)"
   ]
  },
  {
   "cell_type": "code",
   "execution_count": 29,
   "id": "45bdcf31",
   "metadata": {},
   "outputs": [
    {
     "data": {
      "text/plain": [
       "'33'"
      ]
     },
     "execution_count": 29,
     "metadata": {},
     "output_type": "execute_result"
    }
   ],
   "source": [
    "z+z"
   ]
  },
  {
   "cell_type": "code",
   "execution_count": 1,
   "id": "b35088dc",
   "metadata": {},
   "outputs": [
    {
     "name": "stdout",
     "output_type": "stream",
     "text": [
      "enter your first nameneha\n"
     ]
    }
   ],
   "source": [
    "name=input('enter your first name')\n"
   ]
  },
  {
   "cell_type": "code",
   "execution_count": 3,
   "id": "c68f48ff",
   "metadata": {},
   "outputs": [
    {
     "name": "stdout",
     "output_type": "stream",
     "text": [
      "enter your last namekhadka\n"
     ]
    }
   ],
   "source": [
    "name2=input('enter your last name')"
   ]
  },
  {
   "cell_type": "code",
   "execution_count": 5,
   "id": "3cd1047c",
   "metadata": {},
   "outputs": [
    {
     "name": "stdout",
     "output_type": "stream",
     "text": [
      "nehakhadka\n"
     ]
    }
   ],
   "source": [
    "print(name+name2)"
   ]
  },
  {
   "cell_type": "code",
   "execution_count": null,
   "id": "d15e07fa",
   "metadata": {},
   "outputs": [],
   "source": []
  }
 ],
 "metadata": {
  "kernelspec": {
   "display_name": "Python 3 (ipykernel)",
   "language": "python",
   "name": "python3"
  },
  "language_info": {
   "codemirror_mode": {
    "name": "ipython",
    "version": 3
   },
   "file_extension": ".py",
   "mimetype": "text/x-python",
   "name": "python",
   "nbconvert_exporter": "python",
   "pygments_lexer": "ipython3",
   "version": "3.11.1"
  }
 },
 "nbformat": 4,
 "nbformat_minor": 5
}
