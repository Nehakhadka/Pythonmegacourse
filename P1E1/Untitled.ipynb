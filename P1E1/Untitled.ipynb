{
 "cells": [
  {
   "cell_type": "code",
   "execution_count": 2,
   "id": "52c47d22",
   "metadata": {},
   "outputs": [
    {
     "name": "stdout",
     "output_type": "stream",
     "text": [
      "Enter your name:neha khadka\n"
     ]
    }
   ],
   "source": [
    "name =input(\"Enter your name:\")"
   ]
  },
  {
   "cell_type": "code",
   "execution_count": 3,
   "id": "737ba214",
   "metadata": {},
   "outputs": [
    {
     "name": "stdout",
     "output_type": "stream",
     "text": [
      "Enter your roll no:20\n"
     ]
    }
   ],
   "source": [
    "name=input(\"Enter your roll no:\")"
   ]
  },
  {
   "cell_type": "code",
   "execution_count": 5,
   "id": "3a35e2fc",
   "metadata": {},
   "outputs": [
    {
     "name": "stdout",
     "output_type": "stream",
     "text": [
      "Enter first number:3\n"
     ]
    }
   ],
   "source": [
    "n=input(\"Enter first number:\")"
   ]
  },
  {
   "cell_type": "code",
   "execution_count": 6,
   "id": "f8c6adcb",
   "metadata": {},
   "outputs": [
    {
     "name": "stdout",
     "output_type": "stream",
     "text": [
      "Enter second number:8\n"
     ]
    }
   ],
   "source": [
    "k=input(\"Enter second number:\")"
   ]
  },
  {
   "cell_type": "code",
   "execution_count": 7,
   "id": "e27b7840",
   "metadata": {},
   "outputs": [
    {
     "name": "stdout",
     "output_type": "stream",
     "text": [
      "sum is : 11\n"
     ]
    }
   ],
   "source": [
    "print(\"sum is :\", int (n)+int(k))"
   ]
  },
  {
   "cell_type": "code",
   "execution_count": 9,
   "id": "35279ea8",
   "metadata": {},
   "outputs": [
    {
     "name": "stdout",
     "output_type": "stream",
     "text": [
      "Enter any number:11\n"
     ]
    }
   ],
   "source": [
    "x=input('Enter any number:')"
   ]
  },
  {
   "cell_type": "code",
   "execution_count": 10,
   "id": "3b176c31",
   "metadata": {},
   "outputs": [
    {
     "name": "stdout",
     "output_type": "stream",
     "text": [
      "Enter next number:21\n"
     ]
    }
   ],
   "source": [
    "y= input('Enter next number:')"
   ]
  },
  {
   "cell_type": "code",
   "execution_count": 11,
   "id": "e7fa86ad",
   "metadata": {},
   "outputs": [
    {
     "name": "stdout",
     "output_type": "stream",
     "text": [
      "Integer part of division of the number is  0\n"
     ]
    }
   ],
   "source": [
    "print('Integer part of division of the number is ',int(x)//int(y))"
   ]
  },
  {
   "cell_type": "code",
   "execution_count": null,
   "id": "004a14a0",
   "metadata": {},
   "outputs": [],
   "source": []
  }
 ],
 "metadata": {
  "kernelspec": {
   "display_name": "Python 3 (ipykernel)",
   "language": "python",
   "name": "python3"
  },
  "language_info": {
   "codemirror_mode": {
    "name": "ipython",
    "version": 3
   },
   "file_extension": ".py",
   "mimetype": "text/x-python",
   "name": "python",
   "nbconvert_exporter": "python",
   "pygments_lexer": "ipython3",
   "version": "3.11.1"
  }
 },
 "nbformat": 4,
 "nbformat_minor": 5
}
