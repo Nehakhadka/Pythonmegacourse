{
 "cells": [
  {
   "cell_type": "code",
   "execution_count": 1,
   "id": "bcec8e56",
   "metadata": {},
   "outputs": [],
   "source": [
    "x=('Hexcode')"
   ]
  },
  {
   "cell_type": "code",
   "execution_count": 2,
   "id": "75a12a95",
   "metadata": {},
   "outputs": [],
   "source": [
    "y=('Nepal')"
   ]
  },
  {
   "cell_type": "code",
   "execution_count": 3,
   "id": "6a79c729",
   "metadata": {},
   "outputs": [],
   "source": [
    "z=x+y"
   ]
  },
  {
   "cell_type": "code",
   "execution_count": 4,
   "id": "59572cf9",
   "metadata": {},
   "outputs": [
    {
     "name": "stdout",
     "output_type": "stream",
     "text": [
      "HexcodeNepal\n"
     ]
    }
   ],
   "source": [
    "print(z)"
   ]
  },
  {
   "cell_type": "code",
   "execution_count": 9,
   "id": "ec21065d",
   "metadata": {},
   "outputs": [],
   "source": [
    "z=x+' '+y"
   ]
  },
  {
   "cell_type": "code",
   "execution_count": 10,
   "id": "d908459f",
   "metadata": {},
   "outputs": [
    {
     "name": "stdout",
     "output_type": "stream",
     "text": [
      "Hexcode Nepal\n"
     ]
    }
   ],
   "source": [
    "print(z)"
   ]
  },
  {
   "cell_type": "code",
   "execution_count": 5,
   "id": "e901fe54",
   "metadata": {},
   "outputs": [
    {
     "name": "stdout",
     "output_type": "stream",
     "text": [
      "Enter your first name:Neha\n",
      "Enter your last name:khadka\n"
     ]
    }
   ],
   "source": [
    "f_name=input('Enter your first name:')\n",
    "l_name=input('Enter your last name:')"
   ]
  },
  {
   "cell_type": "code",
   "execution_count": 6,
   "id": "6c496164",
   "metadata": {},
   "outputs": [
    {
     "name": "stdout",
     "output_type": "stream",
     "text": [
      "your name is Neha khadka\n"
     ]
    }
   ],
   "source": [
    "print('your name is '+f_name+' '+l_name)"
   ]
  },
  {
   "cell_type": "code",
   "execution_count": 11,
   "id": "cd2bdf63",
   "metadata": {},
   "outputs": [
    {
     "name": "stdout",
     "output_type": "stream",
     "text": [
      "Enter first number:55\n",
      "Enter second number:6\n"
     ]
    }
   ],
   "source": [
    "num1=int(input('Enter first number:'))\n",
    "num2=int(input('Enter second number:'))"
   ]
  },
  {
   "cell_type": "code",
   "execution_count": 9,
   "id": "2bb87bf2",
   "metadata": {},
   "outputs": [],
   "source": [
    "sum1=num1+num2"
   ]
  },
  {
   "cell_type": "code",
   "execution_count": 10,
   "id": "9b335e10",
   "metadata": {},
   "outputs": [
    {
     "data": {
      "text/plain": [
       "61"
      ]
     },
     "execution_count": 10,
     "metadata": {},
     "output_type": "execute_result"
    }
   ],
   "source": [
    "sum1"
   ]
  },
  {
   "cell_type": "code",
   "execution_count": 12,
   "id": "592ff985",
   "metadata": {},
   "outputs": [
    {
     "name": "stdout",
     "output_type": "stream",
     "text": [
      "61\n"
     ]
    }
   ],
   "source": [
    "print(sum1)"
   ]
  },
  {
   "cell_type": "code",
   "execution_count": 14,
   "id": "8ff49303",
   "metadata": {},
   "outputs": [
    {
     "name": "stdout",
     "output_type": "stream",
     "text": [
      "Enter first number:0.35\n",
      "Enter second number:0.98\n"
     ]
    }
   ],
   "source": [
    "num1=float(input('Enter first number:'))\n",
    "num2=float(input('Enter second number:'))"
   ]
  },
  {
   "cell_type": "code",
   "execution_count": 17,
   "id": "aaf9c445",
   "metadata": {},
   "outputs": [],
   "source": [
    "diff1=num1-num2"
   ]
  },
  {
   "cell_type": "code",
   "execution_count": 18,
   "id": "228b6e1f",
   "metadata": {},
   "outputs": [
    {
     "data": {
      "text/plain": [
       "-0.63"
      ]
     },
     "execution_count": 18,
     "metadata": {},
     "output_type": "execute_result"
    }
   ],
   "source": [
    "diff1"
   ]
  },
  {
   "cell_type": "code",
   "execution_count": 19,
   "id": "52732afd",
   "metadata": {},
   "outputs": [
    {
     "name": "stdout",
     "output_type": "stream",
     "text": [
      "-0.63\n"
     ]
    }
   ],
   "source": [
    "print(diff1)"
   ]
  },
  {
   "cell_type": "code",
   "execution_count": 21,
   "id": "fd8ea54c",
   "metadata": {},
   "outputs": [
    {
     "name": "stdout",
     "output_type": "stream",
     "text": [
      "Enter first number:54\n",
      "Enter second number:3\n"
     ]
    }
   ],
   "source": [
    "num1=float(input('Enter first number:'))\n",
    "num2=float(input('Enter second number:'))"
   ]
  },
  {
   "cell_type": "code",
   "execution_count": 35,
   "id": "90a42d33",
   "metadata": {},
   "outputs": [],
   "source": [
    "product1=num1*num2"
   ]
  },
  {
   "cell_type": "code",
   "execution_count": 36,
   "id": "facf025a",
   "metadata": {},
   "outputs": [
    {
     "name": "stdout",
     "output_type": "stream",
     "text": [
      "The product is 162.0\n"
     ]
    }
   ],
   "source": [
    "print('The product is',product1)"
   ]
  },
  {
   "cell_type": "code",
   "execution_count": 38,
   "id": "d9a56141",
   "metadata": {},
   "outputs": [
    {
     "data": {
      "text/plain": [
       "157464.0"
      ]
     },
     "execution_count": 38,
     "metadata": {},
     "output_type": "execute_result"
    }
   ],
   "source": [
    "num1**num2"
   ]
  },
  {
   "cell_type": "code",
   "execution_count": null,
   "id": "d3735c4d",
   "metadata": {},
   "outputs": [],
   "source": []
  }
 ],
 "metadata": {
  "kernelspec": {
   "display_name": "Python 3 (ipykernel)",
   "language": "python",
   "name": "python3"
  },
  "language_info": {
   "codemirror_mode": {
    "name": "ipython",
    "version": 3
   },
   "file_extension": ".py",
   "mimetype": "text/x-python",
   "name": "python",
   "nbconvert_exporter": "python",
   "pygments_lexer": "ipython3",
   "version": "3.11.1"
  }
 },
 "nbformat": 4,
 "nbformat_minor": 5
}
